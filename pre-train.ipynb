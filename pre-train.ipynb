{
 "cells": [
  {
   "cell_type": "markdown",
   "metadata": {},
   "source": [
    "### 🔹 Step 1: Install Required Libraries\n",
    "\n",
    "**pip install lightfm pandas numpy**\n"
   ]
  },
  {
   "cell_type": "code",
   "execution_count": null,
   "metadata": {},
   "outputs": [],
   "source": [
    "pip install lightfm pandas numpy\n"
   ]
  },
  {
   "cell_type": "markdown",
   "metadata": {},
   "source": [
    "### 🔹 Step 2: Load Your Dataset (events.csv)"
   ]
  },
  {
   "cell_type": "code",
   "execution_count": 1,
   "metadata": {},
   "outputs": [
    {
     "name": "stdout",
     "output_type": "stream",
     "text": [
      "       timestamp  visitorid event  itemid  transactionid\n",
      "0  1433221332117     257597  view  355908            NaN\n",
      "1  1433224214164     992329  view  248676            NaN\n",
      "2  1433221999827     111016  view  318965            NaN\n",
      "3  1433221955914     483717  view  253185            NaN\n",
      "4  1433221337106     951259  view  367447            NaN\n"
     ]
    }
   ],
   "source": [
    "\n",
    "import pandas as pd\n",
    "\n",
    "# Load dataset\n",
    "events = pd.read_csv(\"data/events.csv\")\n",
    "\n",
    "# Display first few rows\n",
    "print(events.head())\n"
   ]
  },
  {
   "cell_type": "markdown",
   "metadata": {},
   "source": [
    "### 🔹 Step 3: Convert Data for LightFM"
   ]
  },
  {
   "cell_type": "code",
   "execution_count": 2,
   "metadata": {},
   "outputs": [
    {
     "name": "stderr",
     "output_type": "stream",
     "text": [
      "/Library/Frameworks/Python.framework/Versions/3.11/lib/python3.11/site-packages/lightfm/_lightfm_fast.py:9: UserWarning: LightFM was compiled without OpenMP support. Only a single thread will be used.\n",
      "  warnings.warn(\n"
     ]
    }
   ],
   "source": [
    "from lightfm import LightFM\n",
    "from lightfm.data import Dataset\n",
    "\n",
    "# Initialize LightFM dataset\n",
    "dataset = Dataset()\n",
    "\n",
    "# Fit dataset with unique users and items\n",
    "dataset.fit(users=events[\"visitorid\"].unique(), items=events[\"itemid\"].unique())\n",
    "\n",
    "# Build interaction matrix (assuming each event counts as an interaction)\n",
    "(interactions, weights) = dataset.build_interactions(\n",
    "    (row[\"visitorid\"], row[\"itemid\"]) for _, row in events.iterrows()\n",
    ")\n"
   ]
  },
  {
   "cell_type": "markdown",
   "metadata": {},
   "source": [
    "### 🔹 Step 4: Train a Simple Recommendation Model"
   ]
  },
  {
   "cell_type": "code",
   "execution_count": 3,
   "metadata": {},
   "outputs": [
    {
     "data": {
      "text/plain": [
       "<lightfm.lightfm.LightFM at 0x1281e2a90>"
      ]
     },
     "execution_count": 3,
     "metadata": {},
     "output_type": "execute_result"
    }
   ],
   "source": [
    "# Initialize model\n",
    "model = LightFM(loss=\"warp\")  # WARP optimizes ranking\n",
    "\n",
    "# Train model for 10 epochs\n",
    "model.fit(interactions, epochs=10, num_threads=2)\n"
   ]
  },
  {
   "cell_type": "markdown",
   "metadata": {},
   "source": [
    "### 🔹 Step 5: Generate Recommendations"
   ]
  },
  {
   "cell_type": "code",
   "execution_count": 4,
   "metadata": {},
   "outputs": [
    {
     "name": "stdout",
     "output_type": "stream",
     "text": [
      "Recommended items: [247909, 153778, 65273, 315545, 253615]\n"
     ]
    }
   ],
   "source": [
    "import numpy as np\n",
    "\n",
    "def recommend_items(model, dataset, user_id, n=5):\n",
    "    \"\"\"Recommend top N items for a given user.\"\"\"\n",
    "    n_users, n_items = dataset.interactions_shape()\n",
    "    \n",
    "    # Predict scores for all items\n",
    "    scores = model.predict(user_id, np.arange(n_items))\n",
    "    \n",
    "    # Get top N items\n",
    "    top_items = np.argsort(-scores)[:n]\n",
    "    \n",
    "    # Map back to item IDs\n",
    "    item_mapping = list(dataset.mapping()[2].keys())\n",
    "    recommended_items = [item_mapping[i] for i in top_items]\n",
    "    \n",
    "    return recommended_items\n",
    "\n",
    "# Example: Get recommendations for user ID 257597\n",
    "print(\"Recommended items:\", recommend_items(model, dataset, user_id=0, n=5))\n"
   ]
  },
  {
   "cell_type": "markdown",
   "metadata": {},
   "source": []
  }
 ],
 "metadata": {
  "kernelspec": {
   "display_name": "Python 3",
   "language": "python",
   "name": "python3"
  },
  "language_info": {
   "codemirror_mode": {
    "name": "ipython",
    "version": 3
   },
   "file_extension": ".py",
   "mimetype": "text/x-python",
   "name": "python",
   "nbconvert_exporter": "python",
   "pygments_lexer": "ipython3",
   "version": "3.11.9"
  }
 },
 "nbformat": 4,
 "nbformat_minor": 2
}
